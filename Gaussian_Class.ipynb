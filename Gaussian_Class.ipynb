{
  "nbformat": 4,
  "nbformat_minor": 0,
  "metadata": {
    "colab": {
      "name": "Gaussian_Class.ipynb",
      "provenance": [],
      "collapsed_sections": []
    },
    "kernelspec": {
      "name": "python3",
      "display_name": "Python 3"
    },
    "language_info": {
      "name": "python"
    }
  },
  "cells": [
    {
      "cell_type": "code",
      "metadata": {
        "id": "Cm0t5JDUOl8B"
      },
      "source": [
        "import math\n",
        "import matplotlib.pyplot as plt\n",
        "\n",
        "class Gaussian():\n",
        "  \"\"\" \n",
        "      Gaussian Distribution Class for visualizing and calculating\n",
        "      a Gaussian distribution. \n",
        "\n",
        "      Attributes:\n",
        "      mean (float)\n",
        "      stDev (float)\n",
        "      data_list (lits of floats)\n",
        "\n",
        "  \"\"\"\n",
        "  def __init__(self, mu = 0, sigma = 0):\n",
        "\n",
        "    self.mean = mu\n",
        "    self.stDev = sigma\n",
        "    self.data = []\n",
        "  \n",
        "  def calculate_mean(self):\n",
        "\n",
        "    avg = 1.0 * sum(self.data) / len(self.data)\n",
        "    self.mean = avg\n",
        "    # print(self.mean)\n",
        "    return self.mean\n",
        "\n",
        "  def calculate_stdDev(self, sample = True):\n",
        "\n",
        "    if sample:\n",
        "      n = len(self.data) - 1\n",
        "    else: \n",
        "      n = len(self.data)\n",
        "    mean = self.mean\n",
        "    sigma = 0\n",
        "    for d in self.data:\n",
        "      sigma += (d - mean)**2\n",
        "    sigma = math.sqrt(sigma/n)\n",
        "    self.stDev = sigma\n",
        "    # print(self.stDev)\n",
        "    return self.stDev\n",
        "\n",
        "  def read_data_file(self, file_name, sample=True):\n",
        "\n",
        "    with open(file_name) as file:\n",
        "      data_list = []\n",
        "      line = file.readline()\n",
        "      while line:\n",
        "        data_list.append(int(line))\n",
        "        line = file.readline()\n",
        "    file.close()\n",
        "\n",
        "    self.data = data_list\n",
        "    self.mean = self.calculate_mean()\n",
        "    self.stDev = self.calculate_stdDev(sample)\n",
        "  \n",
        "  def plot_histogram(self):\n",
        "\n",
        "    plt.hist(self.data)\n",
        "    plt.title('Histogram of Data')\n",
        "    plt.xlabel('data')\n",
        "    plt.ylabel('count')\n",
        "  \n",
        "  def probability_density_function(self, x):\n",
        "\n",
        "    return (1.0 / (self.stDev * math.sqrt(2*math.pi))) * math.exp(-0.5*((x-self.mean) / self.stDev)**2)\n",
        "\n",
        "  def plot_histogram_pdf(self, n_spaces = 50):\n",
        "\n",
        "    \"\"\"\n",
        "    plotting normalized histogram of probability density function\n",
        "\n",
        "    \"\"\"\n",
        "    mu = self.mean\n",
        "    sigma = self.stDev\n",
        "\n",
        "    min_range = min(self.data)\n",
        "    max_range = max(self.data)\n",
        "\n",
        "    # calculating intervals between x values\n",
        "    interval = 1.0 * (max_range - min_range) / n_spaces\n",
        "    x = []; y = []\n",
        "\n",
        "    for i in range(n_spaces):\n",
        "      tmp = min_range + interval*i\n",
        "      x.append(tmp)\n",
        "      y.append(self.probability_density_function(tmp))\n",
        "    \n",
        "    fig, axes = plt.subplots(2, sharex= True)\n",
        "    fig.subplots_adjust(hspace = 0.5)\n",
        "    \n",
        "    axes[0].hist(self.data, density = True)\n",
        "    axes[0].set_title('Normed Histogram of Data')\n",
        "    axes[0].set_ylabel('Density')\n",
        "    axes[1].plot(x, y)\n",
        "    axes[1].set_title('Normal Distribtion for \\n Sample Mean and Sample Standard Deviation')\n",
        "    axes[0].set_ylabel('Density')\n",
        "    plt.show()\n",
        "\n",
        "    return x, y\n",
        "  \n",
        "  def __add__(self, other):\n",
        "          \n",
        "          \"\"\"Function to add together two Gaussian distributions\n",
        "          \n",
        "          Args:\n",
        "              other (Gaussian): Gaussian instance\n",
        "              \n",
        "          Returns:\n",
        "              Gaussian: Gaussian distribution\n",
        "              \n",
        "          \"\"\"\n",
        "          \n",
        "          result = Gaussian()\n",
        "          result.mean = self.mean + other.mean\n",
        "          result.stDev = math.sqrt(self.stDev ** 2 + other.stDev ** 2)\n",
        "          return result\n",
        "        \n",
        "        \n",
        "  def __repr__(self):\n",
        "    \n",
        "        \"\"\"Function to output the characteristics of the Gaussian instance\n",
        "        \n",
        "        Args:\n",
        "            None\n",
        "        \n",
        "        Returns:\n",
        "            string: characteristics of the Gaussian\n",
        "        \n",
        "        \"\"\" \n",
        "        return \"mean {}, standard deviation {}\".format(self.mean, self.stDev)"
      ],
      "execution_count": 1,
      "outputs": []
    },
    {
      "cell_type": "code",
      "metadata": {
        "id": "dqzX4EzkO8yX"
      },
      "source": [
        "gaussian_o = Gaussian()"
      ],
      "execution_count": 2,
      "outputs": []
    },
    {
      "cell_type": "code",
      "metadata": {
        "id": "pl96jzw_ogww"
      },
      "source": [
        "gaussian_o.read_data_file('Numbers.txt')"
      ],
      "execution_count": 4,
      "outputs": []
    },
    {
      "cell_type": "code",
      "metadata": {
        "colab": {
          "base_uri": "https://localhost:8080/"
        },
        "id": "vukoMI0OkqTT",
        "outputId": "ab3990c9-4a66-46e0-81d9-6f94e1e54f25"
      },
      "source": [
        "print(gaussian_o.mean)"
      ],
      "execution_count": 5,
      "outputs": [
        {
          "output_type": "stream",
          "name": "stdout",
          "text": [
            "78.0909090909091\n"
          ]
        }
      ]
    },
    {
      "cell_type": "code",
      "metadata": {
        "colab": {
          "base_uri": "https://localhost:8080/"
        },
        "id": "KD1Lcy2GpZj5",
        "outputId": "c83d6f18-fdd8-4064-9068-88645b025a7a"
      },
      "source": [
        "print(gaussian_o.stDev)"
      ],
      "execution_count": 6,
      "outputs": [
        {
          "output_type": "stream",
          "name": "stdout",
          "text": [
            "92.87459776004906\n"
          ]
        }
      ]
    },
    {
      "cell_type": "code",
      "metadata": {
        "colab": {
          "base_uri": "https://localhost:8080/",
          "height": 295
        },
        "id": "s5sEQmvNk7Fm",
        "outputId": "827fdb1c-9d04-481e-bc15-68a61d08d085"
      },
      "source": [
        "gaussian_o.plot_histogram()"
      ],
      "execution_count": 7,
      "outputs": [
        {
          "output_type": "display_data",
          "data": {
            "image/png": "[encoded data removed]",
            "text/plain": [
              "<Figure size 432x288 with 1 Axes>"
            ]
          },
          "metadata": {
            "needs_background": "light"
          }
        }
      ]
    },
    {
      "cell_type": "code",
      "metadata": {
        "colab": {
          "base_uri": "https://localhost:8080/",
          "height": 1000
        },
        "id": "tBoKat1ulbHU",
        "outputId": "def4bdb9-c3ff-4c5f-ab04-2b6e114fc6a5"
      },
      "source": [
        "gaussian_o.plot_histogram_pdf()"
      ],
      "execution_count": 8,
      "outputs": [
        {
          "output_type": "display_data",
          "data": {
            "image/png": "[encoded data removed]",
            "text/plain": [
              "<Figure size 432x288 with 2 Axes>"
            ]
          },
          "metadata": {
            "needs_background": "light"
          }
        },
        {
          "output_type": "execute_result",
          "data": {
            "text/plain": [
              "([1.0,\n",
              "  7.58,\n",
              "  14.16,\n",
              "  20.740000000000002,\n",
              "  27.32,\n",
              "  33.9,\n",
              "  40.480000000000004,\n",
              "  47.06,\n",
              "  53.64,\n",
              "  60.22,\n",
              "  66.8,\n",
              "  73.38,\n",
              "  79.96000000000001,\n",
              "  86.54,\n",
              "  93.12,\n",
              "  99.7,\n",
              "  106.28,\n",
              "  112.86,\n",
              "  119.44,\n",
              "  126.02,\n",
              "  132.6,\n",
              "  139.18,\n",
              "  145.76,\n",
              "  152.34,\n",
              "  158.92000000000002,\n",
              "  165.5,\n",
              "  172.08,\n",
              "  178.66,\n",
              "  185.24,\n",
              "  191.82,\n",
              "  198.4,\n",
              "  204.98,\n",
              "  211.56,\n",
              "  218.14000000000001,\n",
              "  224.72,\n",
              "  231.3,\n",
              "  237.88,\n",
              "  244.46,\n",
              "  251.04,\n",
              "  257.62,\n",
              "  264.2,\n",
              "  270.78000000000003,\n",
              "  277.36,\n",
              "  283.94,\n",
              "  290.52,\n",
              "  297.1,\n",
              "  303.68,\n",
              "  310.26,\n",
              "  316.84000000000003,\n",
              "  323.42],\n",
              " [0.0030436941280150395,\n",
              "  0.0032199635775976665,\n",
              "  0.003389385629106679,\n",
              "  0.0035498588092989685,\n",
              "  0.0036993144412822716,\n",
              "  0.0038357605437130374,\n",
              "  0.003957325730527453,\n",
              "  0.004062301768846044,\n",
              "  0.004149183447609647,\n",
              "  0.004216704458941581,\n",
              "  0.004263868097796145,\n",
              "  0.004289971740008139,\n",
              "  0.004294624258609417,\n",
              "  0.004277755775037969,\n",
              "  0.0042396194054553134,\n",
              "  0.004180784941175556,\n",
              "  0.004102124683731816,\n",
              "  0.004004791926750454,\n",
              "  0.0038901928264981145,\n",
              "  0.003759952619833299,\n",
              "  0.003615877323227138,\n",
              "  0.0034599121726495113,\n",
              "  0.003294098137140098,\n",
              "  0.003120527857220398,\n",
              "  0.002941302324101445,\n",
              "  0.002758489530620572,\n",
              "  0.002574086195982893,\n",
              "  0.002389983501515617,\n",
              "  0.002207937582926008,\n",
              "  0.0020295453159204953,\n",
              "  0.001856225716626904,\n",
              "  0.0016892070658496405,\n",
              "  0.0015295196657229566,\n",
              "  0.001377993956504496,\n",
              "  0.0012352635662074894,\n",
              "  0.0011017727408934497,\n",
              "  0.000977787511300198,\n",
              "  0.0008634098928327342,\n",
              "  0.0007585943899081439,\n",
              "  0.0006631660798856831,\n",
              "  0.0005768395828224327,\n",
              "  0.0004992382767035347,\n",
              "  0.0004299131886951978,\n",
              "  0.0003683610762264406,\n",
              "  0.0003140413022577166,\n",
              "  0.00026639120219446516,\n",
              "  0.00022483973132287702,\n",
              "  0.00018881926781767698,\n",
              "  0.00015777552448225903,\n",
              "  0.0001311755903990334])"
            ]
          },
          "metadata": {},
          "execution_count": 8
        }
      ]
    },
    {
      "cell_type": "markdown",
      "metadata": {
        "id": "GnIibAQRrv5s"
      },
      "source": [
        "Adding two Gaussian Distributions using Magic Methods </br>\n",
        "gaus_a                      +             gaus_b              =\n",
        "gaus_a + gaus_b "
      ]
    },
    {
      "cell_type": "code",
      "metadata": {
        "colab": {
          "base_uri": "https://localhost:8080/"
        },
        "id": "Mt7fKMhEpw3Q",
        "outputId": "5c0f7600-de68-49d9-fe35-d36ae396eaed"
      },
      "source": [
        "gauss_one = Gaussian(5, 2)\n",
        "gauss_two = Gaussian(10, 1)\n",
        "\n",
        "gaussian_sum = gauss_one + gauss_two\n",
        "\n",
        "print(gaussian_sum.mean)\n",
        "print(gaussian_sum.stDev)"
      ],
      "execution_count": 9,
      "outputs": [
        {
          "output_type": "stream",
          "name": "stdout",
          "text": [
            "15\n",
            "2.23606797749979\n"
          ]
        }
      ]
    },
    {
      "cell_type": "code",
      "metadata": {
        "id": "CaTTUTU1yCMU"
      },
      "source": [
        "class Clothing:\n",
        "\n",
        "    def __init__(self, color, size, style, price):\n",
        "        self.color = color\n",
        "        self.size = size\n",
        "        self.style = style\n",
        "        self.price = price\n",
        "        \n",
        "    def change_price(self, price):\n",
        "        self.price = price\n",
        "        \n",
        "    def calculate_discount(self, discount):\n",
        "        return self.price * (1 - discount)\n",
        "\n",
        "    def calculate_shipping(self, weight, rate):\n",
        "        return weight * rate\n",
        "        \n",
        "class Shirt(Clothing):\n",
        "    \n",
        "    def __init__(self, color, size, style, price, long_or_short):\n",
        "        \n",
        "        Clothing.__init__(self, color, size, style, price)\n",
        "        self.long_or_short = long_or_short\n",
        "    \n",
        "    def double_price(self):\n",
        "        self.price = 2*self.price\n",
        "    \n",
        "class Pants(Clothing):\n",
        "\n",
        "    def __init__(self, color, size, style, price, waist):\n",
        "        \n",
        "        Clothing.__init__(self, color, size, style, price)\n",
        "        self.waist = waist\n",
        "        \n",
        "    def calculate_discount(self, discount):\n",
        "        return self.price * (1 - discount / 2)\n",
        "\n",
        "class Blouse(Clothing):\n",
        "    def __init__(self, color, size, style, price, country_of_origin):\n",
        "        Clothing.__init__(self, color, size, style, price)\n",
        "        self.country_of_origin = country_of_origin\n",
        "    \n",
        "    def triple_price(self):\n",
        "        return 3 * self.price"
      ],
      "execution_count": 10,
      "outputs": []
    },
    {
      "cell_type": "code",
      "metadata": {
        "id": "Cv3g2S1R3nQE"
      },
      "source": [
        "class Distribution:\n",
        "    \n",
        "    def __init__(self, mu=0, sigma=1):\n",
        "    \n",
        "        \"\"\" Generic distribution class for calculating and \n",
        "        visualizing a probability distribution.\n",
        "    \n",
        "        Attributes:\n",
        "            mean (float) representing the mean value of the distribution\n",
        "            stdev (float) representing the standard deviation of the distribution\n",
        "            data_list (list of floats) a list of floats extracted from the data file\n",
        "            \"\"\"\n",
        "        \n",
        "        self.mean = mu\n",
        "        self.stdev = sigma\n",
        "        self.data = []\n",
        "\n",
        "\n",
        "    def read_data_file(self, file_name):\n",
        "    \n",
        "        \"\"\"Function to read in data from a txt file. The txt file should have\n",
        "        one number (float) per line. The numbers are stored in the data attribute.\n",
        "                \n",
        "        Args:\n",
        "            file_name (string): name of a file to read from\n",
        "        \n",
        "        Returns:\n",
        "            None\n",
        "        \n",
        "        \"\"\"\n",
        "            \n",
        "        with open(file_name) as file:\n",
        "            data_list = []\n",
        "            line = file.readline()\n",
        "            while line:\n",
        "                data_list.append(int(line))\n",
        "                line = file.readline()\n",
        "        file.close()\n",
        "    \n",
        "        self.data = data_list"
      ],
      "execution_count": 11,
      "outputs": []
    },
    {
      "cell_type": "code",
      "metadata": {
        "id": "9kHdp5d4xV8k"
      },
      "source": [
        "import math\n",
        "import matplotlib.pyplot as plt\n",
        "\n",
        "class Gaussian(Distribution):\n",
        "    \"\"\" Gaussian distribution class for calculating and \n",
        "    visualizing a Gaussian distribution.\n",
        "    \n",
        "    Attributes:\n",
        "        mean (float) representing the mean value of the distribution\n",
        "        stdev (float) representing the standard deviation of the distribution\n",
        "        data_list (list of floats) a list of floats extracted from the data file\n",
        "            \n",
        "    \"\"\"\n",
        "    def __init__(self, mu=0, sigma=1):\n",
        "        \n",
        "        Distribution.__init__(self, mu, sigma)\n",
        "    \n",
        "        \n",
        "    \n",
        "    def calculate_mean(self):\n",
        "    \n",
        "        \"\"\"Function to calculate the mean of the data set.\n",
        "        \n",
        "        Args: \n",
        "            None\n",
        "        \n",
        "        Returns: \n",
        "            float: mean of the data set\n",
        "    \n",
        "        \"\"\"\n",
        "                    \n",
        "        avg = 1.0 * sum(self.data) / len(self.data)\n",
        "        \n",
        "        self.mean = avg\n",
        "        \n",
        "        return self.mean\n",
        "\n",
        "\n",
        "\n",
        "    def calculate_stdev(self, sample=True):\n",
        "\n",
        "        \"\"\"Function to calculate the standard deviation of the data set.\n",
        "        \n",
        "        Args: \n",
        "            sample (bool): whether the data represents a sample or population\n",
        "        \n",
        "        Returns: \n",
        "            float: standard deviation of the data set\n",
        "    \n",
        "        \"\"\"\n",
        "\n",
        "        if sample:\n",
        "            n = len(self.data) - 1\n",
        "        else:\n",
        "            n = len(self.data)\n",
        "    \n",
        "        mean = self.calculate_mean()\n",
        "    \n",
        "        sigma = 0\n",
        "    \n",
        "        for d in self.data:\n",
        "            sigma += (d - mean) ** 2\n",
        "        \n",
        "        sigma = math.sqrt(sigma / n)\n",
        "    \n",
        "        self.stdev = sigma\n",
        "        \n",
        "        return self.stdev\n",
        "        \n",
        "        \n",
        "        \n",
        "    def plot_histogram(self):\n",
        "        \"\"\"Function to output a histogram of the instance variable data using \n",
        "        matplotlib pyplot library.\n",
        "        \n",
        "        Args:\n",
        "            None\n",
        "            \n",
        "        Returns:\n",
        "            None\n",
        "        \"\"\"\n",
        "        plt.hist(self.data)\n",
        "        plt.title('Histogram of Data')\n",
        "        plt.xlabel('data')\n",
        "        plt.ylabel('count')\n",
        "        \n",
        "        \n",
        "        \n",
        "    def pdf(self, x):\n",
        "        \"\"\"Probability density function calculator for the gaussian distribution.\n",
        "        \n",
        "        Args:\n",
        "            x (float): point for calculating the probability density function\n",
        "            \n",
        "        \n",
        "        Returns:\n",
        "            float: probability density function output\n",
        "        \"\"\"\n",
        "        \n",
        "        return (1.0 / (self.stdev * math.sqrt(2*math.pi))) * math.exp(-0.5*((x - self.mean) / self.stdev) ** 2)\n",
        "        \n",
        "\n",
        "    def plot_histogram_pdf(self, n_spaces = 50):\n",
        "\n",
        "        \"\"\"Function to plot the normalized histogram of the data and a plot of the \n",
        "        probability density function along the same range\n",
        "        \n",
        "        Args:\n",
        "            n_spaces (int): number of data points \n",
        "        \n",
        "        Returns:\n",
        "            list: x values for the pdf plot\n",
        "            list: y values for the pdf plot\n",
        "            \n",
        "        \"\"\"\n",
        "        \n",
        "        mu = self.mean\n",
        "        sigma = self.stdev\n",
        "\n",
        "        min_range = min(self.data)\n",
        "        max_range = max(self.data)\n",
        "        \n",
        "         # calculates the interval between x values\n",
        "        interval = 1.0 * (max_range - min_range) / n_spaces\n",
        "\n",
        "        x = []\n",
        "        y = []\n",
        "        \n",
        "        # calculate the x values to visualize\n",
        "        for i in range(n_spaces):\n",
        "            tmp = min_range + interval*i\n",
        "            x.append(tmp)\n",
        "            y.append(self.pdf(tmp))\n",
        "\n",
        "        # make the plots\n",
        "        fig, axes = plt.subplots(2,sharex=True)\n",
        "        fig.subplots_adjust(hspace=.5)\n",
        "        axes[0].hist(self.data, density=True)\n",
        "        axes[0].set_title('Normed Histogram of Data')\n",
        "        axes[0].set_ylabel('Density')\n",
        "\n",
        "        axes[1].plot(x, y)\n",
        "        axes[1].set_title('Normal Distribution for \\n Sample Mean and Sample Standard Deviation')\n",
        "        axes[0].set_ylabel('Density')\n",
        "        plt.show()\n",
        "\n",
        "        return x, y\n",
        "        \n",
        "    def __add__(self, other):\n",
        "        \n",
        "        \"\"\"Function to add together two Gaussian distributions\n",
        "        \n",
        "        Args:\n",
        "            other (Gaussian): Gaussian instance\n",
        "            \n",
        "        Returns:\n",
        "            Gaussian: Gaussian distribution\n",
        "            \n",
        "        \"\"\"\n",
        "        \n",
        "        result = Gaussian()\n",
        "        result.mean = self.mean + other.mean\n",
        "        result.stdev = math.sqrt(self.stdev ** 2 + other.stdev ** 2)\n",
        "        \n",
        "        return result\n",
        "        \n",
        "        \n",
        "    def __repr__(self):\n",
        "    \n",
        "        \"\"\"Function to output the characteristics of the Gaussian instance\n",
        "        \n",
        "        Args:\n",
        "            None\n",
        "        \n",
        "        Returns:\n",
        "            string: characteristics of the Gaussian\n",
        "        \n",
        "        \"\"\"\n",
        "        \n",
        "        return \"mean {}, standard deviation {}\".format(self.mean, self.stdev)"
      ],
      "execution_count": 12,
      "outputs": []
    },
    {
      "cell_type": "code",
      "metadata": {
        "id": "kCAzuopOxf9p"
      },
      "source": [
        "gaussian_one = Gaussian(25, 3)\n",
        "gaussian_two = Gaussian(30, 2)"
      ],
      "execution_count": 13,
      "outputs": []
    },
    {
      "cell_type": "code",
      "metadata": {
        "colab": {
          "base_uri": "https://localhost:8080/"
        },
        "id": "2ZXU3uOQxkHE",
        "outputId": "e4fbb8c9-563c-4ac9-8d72-b9e07fd4360e"
      },
      "source": [
        "gaussian_three = Gaussian()\n",
        "gaussian_three.read_data_file('Numbers.txt')\n",
        "gaussian_three.calculate_mean()\n"
      ],
      "execution_count": 16,
      "outputs": [
        {
          "output_type": "execute_result",
          "data": {
            "text/plain": [
              "78.0909090909091"
            ]
          },
          "metadata": {},
          "execution_count": 16
        }
      ]
    },
    {
      "cell_type": "code",
      "metadata": {
        "colab": {
          "base_uri": "https://localhost:8080/"
        },
        "id": "oVxQUeC2xmZs",
        "outputId": "fe10123b-2f74-44c1-b862-530ba0bede0c"
      },
      "source": [
        "gaussian_three.calculate_stdev()"
      ],
      "execution_count": 17,
      "outputs": [
        {
          "output_type": "execute_result",
          "data": {
            "text/plain": [
              "92.87459776004906"
            ]
          },
          "metadata": {},
          "execution_count": 17
        }
      ]
    },
    {
      "cell_type": "code",
      "metadata": {
        "colab": {
          "base_uri": "https://localhost:8080/"
        },
        "id": "KfH7XfHwxr-K",
        "outputId": "5c7f0fdd-de59-4024-bcdd-dc402cf2bf56"
      },
      "source": [
        "print(gaussian_one.mean)\n",
        "print(gaussian_two.mean)"
      ],
      "execution_count": 18,
      "outputs": [
        {
          "output_type": "stream",
          "name": "stdout",
          "text": [
            "25\n",
            "30\n"
          ]
        }
      ]
    },
    {
      "cell_type": "code",
      "metadata": {
        "colab": {
          "base_uri": "https://localhost:8080/"
        },
        "id": "OCZkp4ybxv9b",
        "outputId": "6ae17a0c-f1d7-4481-a522-08e30dc65c69"
      },
      "source": [
        "print(gaussian_one.stdev)\n",
        "print(gaussian_two.stdev)"
      ],
      "execution_count": 19,
      "outputs": [
        {
          "output_type": "stream",
          "name": "stdout",
          "text": [
            "3\n",
            "2\n"
          ]
        }
      ]
    },
    {
      "cell_type": "code",
      "metadata": {
        "colab": {
          "base_uri": "https://localhost:8080/"
        },
        "id": "cB5_LPnYxy3c",
        "outputId": "fbff0856-8346-4e74-9f40-7b7ada5ff74f"
      },
      "source": [
        "print(gaussian_three.mean)\n",
        "print(gaussian_three.stdev)"
      ],
      "execution_count": 20,
      "outputs": [
        {
          "output_type": "stream",
          "name": "stdout",
          "text": [
            "78.0909090909091\n",
            "92.87459776004906\n"
          ]
        }
      ]
    },
    {
      "cell_type": "code",
      "metadata": {
        "colab": {
          "base_uri": "https://localhost:8080/",
          "height": 1000
        },
        "id": "yNTJJ_wcx08d",
        "outputId": "9eae0c38-2b61-4804-d20e-c265535bfbb7"
      },
      "source": [
        "gaussian_three.plot_histogram_pdf()"
      ],
      "execution_count": 21,
      "outputs": [
        {
          "output_type": "display_data",
          "data": {
            "image/png": "[encoded data removed]",
            "text/plain": [
              "<Figure size 432x288 with 2 Axes>"
            ]
          },
          "metadata": {
            "needs_background": "light"
          }
        },
        {
          "output_type": "execute_result",
          "data": {
            "text/plain": [
              "([1.0,\n",
              "  7.58,\n",
              "  14.16,\n",
              "  20.740000000000002,\n",
              "  27.32,\n",
              "  33.9,\n",
              "  40.480000000000004,\n",
              "  47.06,\n",
              "  53.64,\n",
              "  60.22,\n",
              "  66.8,\n",
              "  73.38,\n",
              "  79.96000000000001,\n",
              "  86.54,\n",
              "  93.12,\n",
              "  99.7,\n",
              "  106.28,\n",
              "  112.86,\n",
              "  119.44,\n",
              "  126.02,\n",
              "  132.6,\n",
              "  139.18,\n",
              "  145.76,\n",
              "  152.34,\n",
              "  158.92000000000002,\n",
              "  165.5,\n",
              "  172.08,\n",
              "  178.66,\n",
              "  185.24,\n",
              "  191.82,\n",
              "  198.4,\n",
              "  204.98,\n",
              "  211.56,\n",
              "  218.14000000000001,\n",
              "  224.72,\n",
              "  231.3,\n",
              "  237.88,\n",
              "  244.46,\n",
              "  251.04,\n",
              "  257.62,\n",
              "  264.2,\n",
              "  270.78000000000003,\n",
              "  277.36,\n",
              "  283.94,\n",
              "  290.52,\n",
              "  297.1,\n",
              "  303.68,\n",
              "  310.26,\n",
              "  316.84000000000003,\n",
              "  323.42],\n",
              " [0.0030436941280150395,\n",
              "  0.0032199635775976665,\n",
              "  0.003389385629106679,\n",
              "  0.0035498588092989685,\n",
              "  0.0036993144412822716,\n",
              "  0.0038357605437130374,\n",
              "  0.003957325730527453,\n",
              "  0.004062301768846044,\n",
              "  0.004149183447609647,\n",
              "  0.004216704458941581,\n",
              "  0.004263868097796145,\n",
              "  0.004289971740008139,\n",
              "  0.004294624258609417,\n",
              "  0.004277755775037969,\n",
              "  0.0042396194054553134,\n",
              "  0.004180784941175556,\n",
              "  0.004102124683731816,\n",
              "  0.004004791926750454,\n",
              "  0.0038901928264981145,\n",
              "  0.003759952619833299,\n",
              "  0.003615877323227138,\n",
              "  0.0034599121726495113,\n",
              "  0.003294098137140098,\n",
              "  0.003120527857220398,\n",
              "  0.002941302324101445,\n",
              "  0.002758489530620572,\n",
              "  0.002574086195982893,\n",
              "  0.002389983501515617,\n",
              "  0.002207937582926008,\n",
              "  0.0020295453159204953,\n",
              "  0.001856225716626904,\n",
              "  0.0016892070658496405,\n",
              "  0.0015295196657229566,\n",
              "  0.001377993956504496,\n",
              "  0.0012352635662074894,\n",
              "  0.0011017727408934497,\n",
              "  0.000977787511300198,\n",
              "  0.0008634098928327342,\n",
              "  0.0007585943899081439,\n",
              "  0.0006631660798856831,\n",
              "  0.0005768395828224327,\n",
              "  0.0004992382767035347,\n",
              "  0.0004299131886951978,\n",
              "  0.0003683610762264406,\n",
              "  0.0003140413022577166,\n",
              "  0.00026639120219446516,\n",
              "  0.00022483973132287702,\n",
              "  0.00018881926781767698,\n",
              "  0.00015777552448225903,\n",
              "  0.0001311755903990334])"
            ]
          },
          "metadata": {},
          "execution_count": 21
        }
      ]
    },
    {
      "cell_type": "code",
      "metadata": {
        "id": "Qf9YgTUMx4XX"
      },
      "source": [
        ""
      ],
      "execution_count": null,
      "outputs": []
    }
  ]
}